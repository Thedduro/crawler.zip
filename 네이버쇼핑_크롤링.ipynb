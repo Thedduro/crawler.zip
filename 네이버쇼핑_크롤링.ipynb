{
 "cells": [
  {
   "cell_type": "markdown",
   "id": "f516f96d",
   "metadata": {},
   "source": [
    "##### 1. 필요한 라이브러리 및 패키지 임포트"
   ]
  },
  {
   "cell_type": "code",
   "execution_count": 1,
   "id": "8fe751a7-9df2-46a4-a098-ed64c652c4e4",
   "metadata": {},
   "outputs": [],
   "source": [
    "import pandas as pd\n",
    "import numpy as np\n",
    "\n",
    "# selenium의 webdriver를 사용하기 위한 import\n",
    "from selenium import webdriver\n",
    "\n",
    "# selenium으로 키를 조작하기 위한 import\n",
    "from selenium.webdriver.common.keys import Keys\n",
    "from selenium.webdriver.common.by import By\n",
    "from selenium.common.exceptions import NoSuchElementException, ElementNotInteractableException\n",
    "\n",
    "# 페이지 로딩을 기다리는데에 사용할 time 모듈 import\n",
    "import time\n",
    "\n",
    "import csv\n",
    "from bs4 import BeautifulSoup as bs\n",
    "import requests\n",
    "import math\n",
    "\n",
    "import re\n",
    "import urllib.request\n",
    "import json\n",
    "import datetime"
   ]
  },
  {
   "cell_type": "markdown",
   "id": "137f0c0c-a465-44a5-b357-6d44bcb27c49",
   "metadata": {},
   "source": [
    "##### 2. 네이버 API로 네이버 스토어 url 추출"
   ]
  },
  {
   "cell_type": "code",
   "execution_count": 2,
   "id": "f23bf67f-5a4b-491d-9326-6bf9ba9d9f8e",
   "metadata": {},
   "outputs": [],
   "source": [
    "def link_crawler(query,start,end):\n",
    "    review_url_list=[]\n",
    "    \n",
    "    # 네이버 developers에서 내 정보 확인\n",
    "    client_id = \"INPUT_client ID\"\n",
    "    client_secret = \"INPUT_client Secret\"\n",
    "    \n",
    "    encText = urllib.parse.quote(query)\n",
    "    \n",
    "    #한번에 100개 이상 수집 시 오류 발생\n",
    "    idx=0\n",
    "    display=10 # 한번에 가져오는 페이지 개수\n",
    "    start=start # 시작 게시물 번호\n",
    "    end=end # 종료 게시물 번호\n",
    "    \n",
    "    \n",
    "    \n",
    "    for st_idx in range(start,end,display):\n",
    "        url = \"https://openapi.naver.com/v1/search/shop?query=\" + encText + \"&display=\" + str(display) + \"&start=\" + str(st_idx) # 네이버 블로그 검색 API 호출 URL 생성\n",
    "        \n",
    "        # 요청 객체 생성 및 헤더 추가\n",
    "        request = urllib.request.Request(url)\n",
    "        request.add_header(\"X-Naver-Client-Id\",client_id)\n",
    "        request.add_header(\"X-Naver-Client-Secret\",client_secret)\n",
    "\n",
    "        # API 요청 및 응답 확인\n",
    "        response = urllib.request.urlopen(request)\n",
    "        rescode = response.getcode()\n",
    "    \n",
    "        if(rescode==200): # 정상 반응\n",
    "            response_body = response.read()\n",
    "            data=response_body.decode('utf-8')\n",
    "            data = json.loads(data)\n",
    "            links = [item['link'] for item in data['items']] # 링크추출\n",
    "            \n",
    "            for link in links:\n",
    "                # 브랜드 스토어 링크만 리스트에 담기\n",
    "                if 'smartstore' in link: \n",
    "                    review_url_list.append(link)\n",
    "            \n",
    "    \n",
    "        else: # 예외처리\n",
    "            print(\"Error Code:\" + rescode) \n",
    "            \n",
    "    return(review_url_list)"
   ]
  },
  {
   "cell_type": "code",
   "execution_count": null,
   "id": "e9167759",
   "metadata": {},
   "outputs": [],
   "source": [
    "review_url_list = link_crawler(\"INPUT_검색 키워드\", 1, n)\n",
    "print(len(review_url_list))\n",
    "print(review_url_list)"
   ]
  },
  {
   "cell_type": "markdown",
   "id": "e852ca3d-4a53-4444-a21d-9503fb372d49",
   "metadata": {},
   "source": [
    "##### 3. 상품 리뷰 크롤링"
   ]
  },
  {
   "cell_type": "code",
   "execution_count": null,
   "id": "935d5918",
   "metadata": {},
   "outputs": [],
   "source": [
    "reviews_list = []\n",
    "\n",
    "for url in review_url_list: \n",
    "    driver = webdriver.Chrome()\n",
    "    driver.get(url)\n",
    "    time.sleep(random.uniform(0.5,1.3)) # 요청시간 랜덤 조정으로 크롤링 차단 방지\n",
    "\n",
    "    driver.find_element(By.XPATH, '//*[@id=\"content\"]/div/div[2]/div[1]/div[2]/div[2]/a').click() # 상품 리뷰 페이지 클릭\n",
    "    time.sleep(random.uniform(0.5,1.3)) \n",
    "    \n",
    "    # 네이버 스토어 리뷰의 경우 한 페이지당 리뷰 20개\n",
    "    page = 1 \n",
    "    max_page = 500 # 크롤링 할  페이지 개수 설정\n",
    "    review_list = []\n",
    "\n",
    "    while page <= max_page:\n",
    "        try: # 페이지 소스 가져오기\n",
    "            soup = bs(driver.page_source, 'lxml')\n",
    "            ul_list = soup.find('ul', {'class': '_2ms2i3dD92'})\n",
    "            reviews = ul_list.find_all('li') # 한 페이지에 있는 리뷰 모두 추출\n",
    "        \n",
    "            for review in reviews:\n",
    "                review_div = review.find('div', {'class': '_3z6gI4oI6l'}) # 리뷰 텍스트만 추출\n",
    "                review_star = review.find('div', {'class': '_2V6vMO_iLm'}) # 평점(별점) 추출\n",
    "                \n",
    "                if review_div:\n",
    "                    text = review_div.get_text()\n",
    "                    text = text.replace('더보기', '').strip() #'더보기' 제거 (전체 텍스트를 크롤링 해도 끝에 더보기가 뜸)\n",
    "                    star = review_star.get_text()\n",
    "                    star = star.replace('평점','').strip() # '평점'제거하고 숫자만\n",
    "                    review_list.append([text,star])\n",
    "        \n",
    "        except Exception as e: # 예외처리\n",
    "            print('예상치 못하게 종료')\n",
    "            break\n",
    "\n",
    "        try: # 다음 페이지 이동\n",
    "            if (page % 10) == 0: # 현재 페이지가 10,20.. 단위일 때\n",
    "                next_page_button = driver.find_element(By.XPATH, '//*[@id=\"REVIEW\"]/div[1]/div[3]/div[2]/div/div/a[12]') # 페이지 넘김 버튼\n",
    "            else: \n",
    "                next_page_button = driver.find_element(By.XPATH, f'//*[@id=\"REVIEW\"]/div[1]/div[3]/div[2]/div/div/a[{(page % 10) + 2}]') # 다음 페이지 버튼\n",
    "\n",
    "            try:\n",
    "                next_page_button.click() # 페이지 이동 버튼 클릭\n",
    "                page += 1\n",
    "                time.sleep(1)\n",
    "\n",
    "            except NoSuchElementException: # 다음 페이지 버튼이 없을 때 (마지막 페이지인 경우)\n",
    "                print(\"다음 페이지 버튼을 찾을 수 없습니다. 마지막 페이지입니다.\")\n",
    "                break\n",
    "\n",
    "            except ElementNotInteractableException:  # 예외처리\n",
    "                print(\"요소를 클릭할 수 없습니다. 페이지를 종료합니다.\")\n",
    "                break\n",
    "\n",
    "        except Exception as e: # 예외처리\n",
    "            print(\"다음 페이지 버튼을 찾을 수 없습니다. 마지막 페이지입니다.\")\n",
    "            break\n",
    "\n",
    "    reviews_list.append(review_list) \n",
    "    driver.quit()\n",
    "\n",
    "print(\"크롤링 완료\")"
   ]
  },
  {
   "cell_type": "markdown",
   "id": "45961631-4688-4435-8d97-613e79ae5eaa",
   "metadata": {},
   "source": [
    "##### 4. 데이터 저장"
   ]
  },
  {
   "cell_type": "code",
   "execution_count": 16,
   "id": "0bade9ae-f111-46b9-805d-f10482f0b4ac",
   "metadata": {},
   "outputs": [],
   "source": [
    "import itertools\n",
    "reviews_list_merge = list(itertools.chain(*reviews_list)) #각 상품 리뷰를 하나의 리스트로 합치기\n",
    "\n",
    "reviews_df = pd.DataFrame(reviews_list_merge)\n",
    "reviews_df.to_csv('NaverProductReview.csv',index=False,encoding='utf-8-sig')"
   ]
  }
 ],
 "metadata": {
  "kernelspec": {
   "display_name": "Python 3 (ipykernel)",
   "language": "python",
   "name": "python3"
  },
  "language_info": {
   "codemirror_mode": {
    "name": "ipython",
    "version": 3
   },
   "file_extension": ".py",
   "mimetype": "text/x-python",
   "name": "python",
   "nbconvert_exporter": "python",
   "pygments_lexer": "ipython3",
   "version": "3.12.4"
  }
 },
 "nbformat": 4,
 "nbformat_minor": 5
}
