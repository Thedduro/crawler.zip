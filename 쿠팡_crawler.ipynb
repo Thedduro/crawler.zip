{
 "cells": [
  {
   "cell_type": "markdown",
   "id": "f24fc5e4",
   "metadata": {},
   "source": [
    "#### 1. 필요한 라이브러리 및 패키지 임포트"
   ]
  },
  {
   "cell_type": "code",
   "execution_count": 1,
   "id": "c38aea15-87ae-4729-8360-b6d79f8d64e0",
   "metadata": {},
   "outputs": [],
   "source": [
    "import pandas as pd\n",
    "import numpy as np\n",
    "\n",
    "# selenium의 webdriver를 사용하기 위한 import\n",
    "from selenium import webdriver\n",
    "\n",
    "# selenium으로 키를 조작하기 위한 import\n",
    "from selenium.webdriver.common.keys import Keys\n",
    "from selenium.webdriver.common.by import By\n",
    "from selenium.common.exceptions import NoSuchElementException, ElementNotInteractableException\n",
    "import time\n",
    "\n",
    "import csv\n",
    "from bs4 import BeautifulSoup as bs\n",
    "import requests\n",
    "import math\n",
    "import random\n",
    "import itertools\n",
    "\n",
    "import re\n",
    "import urllib.request\n",
    "import json\n",
    "import datetime"
   ]
  },
  {
   "cell_type": "markdown",
   "id": "a073f2a6-f24e-4755-ba5d-384d43dab9f9",
   "metadata": {},
   "source": [
    "#### 2. 쿠팡 상품 url 추출"
   ]
  },
  {
   "cell_type": "code",
   "execution_count": 2,
   "id": "399065dc-4235-4cb3-8570-75bf3e5889de",
   "metadata": {},
   "outputs": [],
   "source": [
    "def link_crawler(query):\n",
    "    review_url_list=[]\n",
    "    \n",
    "    # 쿠팡 크롤링 차단 우회(일반적인 브라우저를 통한 접속으로 인식하게 함)\n",
    "    options = webdriver.ChromeOptions()\n",
    "    options.add_argument(\"--disable-blink-featur=AutoesmationControlled\")\n",
    "\n",
    "    url = 'https://www.coupang.com/np/search?component=&q=' + query\n",
    "    \n",
    "    driver=webdriver.Chrome(options=options)\n",
    "    driver.get(url)\n",
    "    time.sleep(random.uniform(1, 3)) # 요청시간 랜덤 조정으로 크롤링 차단 방지\n",
    "\n",
    "    soup = bs(driver.page_source, 'lxml')  \n",
    "    links = soup.find('ul', {'id': 'productList'})\n",
    "    links = links.find_all('li',{'class':'search-product'})\n",
    "\n",
    "    base_url = 'https://www.coupang.com' \n",
    "\n",
    "    for temp_link in links:\n",
    "        product_name = temp_link.get_text()\n",
    "        brand_name = query.split()[0] # 검색어를 (브랜드명 + 제품)으로 했을 경우 브랜드 명만 추출\n",
    "        cate_name = query.split()[1]\n",
    "\n",
    "        if (brand_name in product_name) and (cate_name in product_name): # 검색한 브랜드의 해당 제품만 크롤링(쿠팡은 연관 상품도 함께 노출)\n",
    "            temp_link = str(temp_link)\n",
    "            pattern = r'href=\"([^\"]+)\"'\n",
    "            link = re.findall(pattern, temp_link) # 상품 url만 추출\n",
    "\n",
    "            for coup_link in link:\n",
    "                full_link = base_url + coup_link\n",
    "                review_url_list.append(full_link)\n",
    "    return review_url_list # 쿠팡 상품 url 리스트 반환"
   ]
  },
  {
   "cell_type": "code",
   "execution_count": null,
   "id": "04a5fc4d",
   "metadata": {},
   "outputs": [],
   "source": [
    "review_url_list = link_crawler('INPUT_검색 키워드')\n",
    "print(len(review_url_list))\n",
    "print(review_url_list)"
   ]
  },
  {
   "cell_type": "markdown",
   "id": "e6f0d645-b46e-48ca-802e-1a17ef72b44d",
   "metadata": {},
   "source": [
    "#### 3. 상품 리뷰 크롤링"
   ]
  },
  {
   "cell_type": "code",
   "execution_count": 6,
   "id": "6a931209-fcc4-4115-b463-1f026ae432b6",
   "metadata": {},
   "outputs": [
    {
     "name": "stdout",
     "output_type": "stream",
     "text": [
      "다음 페이지 버튼을 찾을 수 없습니다. 마지막 페이지입니다.\n",
      "다음 페이지 버튼을 찾을 수 없습니다. 마지막 페이지입니다.\n",
      "다음 페이지 버튼을 찾을 수 없습니다. 마지막 페이지입니다.\n",
      "다음 페이지 버튼을 찾을 수 없습니다. 마지막 페이지입니다.\n",
      "다음 페이지 버튼을 찾을 수 없습니다. 마지막 페이지입니다.\n",
      "다음 페이지 버튼을 찾을 수 없습니다. 마지막 페이지입니다.\n",
      "다음 페이지 버튼을 찾을 수 없습니다. 마지막 페이지입니다.\n",
      "다음 페이지 버튼을 찾을 수 없습니다. 마지막 페이지입니다.\n",
      "다음 페이지 버튼을 찾을 수 없습니다. 마지막 페이지입니다.\n",
      "다음 페이지 버튼을 찾을 수 없습니다. 마지막 페이지입니다.\n",
      "다음 페이지 버튼을 찾을 수 없습니다. 마지막 페이지입니다.\n",
      "다음 페이지 버튼을 찾을 수 없습니다. 마지막 페이지입니다.\n",
      "다음 페이지 버튼을 찾을 수 없습니다. 마지막 페이지입니다.\n",
      "다음 페이지 버튼을 찾을 수 없습니다. 마지막 페이지입니다.\n",
      "다음 페이지 버튼을 찾을 수 없습니다. 마지막 페이지입니다.\n",
      "다음 페이지 버튼을 찾을 수 없습니다. 마지막 페이지입니다.\n",
      "다음 페이지 버튼을 찾을 수 없습니다. 마지막 페이지입니다.\n",
      "다음 페이지 버튼을 찾을 수 없습니다. 마지막 페이지입니다.\n",
      "다음 페이지 버튼을 찾을 수 없습니다. 마지막 페이지입니다.\n",
      "다음 페이지 버튼을 찾을 수 없습니다. 마지막 페이지입니다.\n",
      "다음 페이지 버튼을 찾을 수 없습니다. 마지막 페이지입니다.\n",
      "다음 페이지 버튼을 찾을 수 없습니다. 마지막 페이지입니다.\n",
      "다음 페이지 버튼을 찾을 수 없습니다. 마지막 페이지입니다.\n",
      "다음 페이지 버튼을 찾을 수 없습니다. 마지막 페이지입니다.\n",
      "다음 페이지 버튼을 찾을 수 없습니다. 마지막 페이지입니다.\n",
      "다음 페이지 버튼을 찾을 수 없습니다. 마지막 페이지입니다.\n",
      "크롤링 완료\n"
     ]
    }
   ],
   "source": [
    "# 헤더 변경으로 차단 우회\n",
    "HEADERS = {\n",
    "    \"User-Agent\": \"Mozilla/5.0 (Windows NT 10.0; Win64; x64; rv:91.0) Gecko/20100101 Firefox/91.0\",\n",
    "    \"Accept\": \"text/html,application/xhtml+xml,application/xml;q=0.9,image/webp,image/apng,*/*;q=0.8\",\n",
    "    \"Accept-Language\": \"ko-KR,ko;q=0.9\",\n",
    "    \"Accept-Encoding\": \"gzip, deflate, br\",\n",
    "    \"Connection\": \"keep-alive\",\n",
    "    \"Upgrade-Insecure-Requests\": \"1\",\n",
    "    \"TE\": \"Trailers\",\n",
    "    \"Referer\": \"https://www.coupang.com/\",\n",
    "    \"DNT\": \"1\",\n",
    "}\n",
    "\n",
    "reviews_list = []\n",
    "\n",
    "for url in review_url_list: \n",
    "    # 쿠팡 크롤링 차단 우회(일반적인 브라우저를 통한 접속으로 인식하게 함)\n",
    "    options = webdriver.ChromeOptions()\n",
    "    options.add_argument(\"--disable-blink-features=AutomationControlled\")\n",
    "    \n",
    "    driver = webdriver.Chrome(options=options)\n",
    "    driver.get(url)\n",
    "    time.sleep(random.randint(1, 3))\n",
    "\n",
    "    driver.find_element(By.XPATH, '//*[@id=\"btfTab\"]/ul[1]/li[2]').click() # 상품 리뷰 클릭하기\n",
    "    time.sleep(random.randint(1, 3))\n",
    "    \n",
    "    # 쿠팡 리뷰의 경우 보통 한 페이지당 5개\n",
    "    page = 1 \n",
    "    max_page = 800 # 크롤링 할 총 페이지 개수 설정\n",
    "    review_list = []\n",
    "\n",
    "    while page <= max_page:\n",
    "        try: # 페이지 소스 가져오기\n",
    "            soup = bs(driver.page_source, 'lxml')\n",
    "            review_list = soup.find_all('div',{'class':'sdp-review__article__list__review js_reviewArticleContentContainer'}) # 리뷰 데이터 \n",
    "            star_list = soup.find_all('div', class_='js_reviewArticleRatingValue') # 평점(별점) 데이터\n",
    "            time.sleep(random.randint(1, 3))\n",
    "\n",
    "            for review, star in zip(re_list, star_list):\n",
    "                review = review.get_text()\n",
    "                star = star['data-rating']\n",
    "                review_list.append([review,star])\n",
    "        \n",
    "        except Exception as e: # 예외처리\n",
    "            print('예상치 못하게 종료')\n",
    "            break\n",
    "\n",
    "        try: # 다음 페이지 이동\n",
    "            if (page % 10) == 0: # 현재 페이지가 10, 20.. 단위일 때\n",
    "                next_page_button = driver.find_element(By.XPATH, '//*[@id=\"btfTab\"]/ul[2]/li[2]/div/div[6]/section[4]/div[3]/button[12]')\n",
    "            else:\n",
    "                next_page_button = driver.find_element(By.XPATH, f'//*[@id=\"btfTab\"]/ul[2]/li[2]/div/div[6]/section[4]/div[3]/button[{(page % 10)+2}]')\n",
    "\n",
    "            try:\n",
    "                next_page_button.click() # 페이지 이동 버튼 클릭\n",
    "                page += 1\n",
    "                time.sleep(random.randint(1, 3))\n",
    "\n",
    "            except NoSuchElementException: # 다음 페이지 버튼이 없을 때 (마지막 페이지인 경우)\n",
    "                print(\"다음 페이지 버튼을 찾을 수 없습니다. 마지막 페이지입니다.\")\n",
    "                break\n",
    "\n",
    "            except ElementNotInteractableException: # 예외처리\n",
    "                print(\"요소를 클릭할 수 없습니다. 페이지를 종료합니다.\")\n",
    "                break\n",
    "\n",
    "        except Exception as e: # 예외처리\n",
    "            print(\"다음 페이지 버튼을 찾을 수 없습니다. 마지막 페이지입니다.\")\n",
    "            break\n",
    "\n",
    "    reviews_list.append(review_list) # 모든 상품들의 리뷰 저장\n",
    "    driver.quit()\n",
    "\n",
    "print(\"크롤링 완료\")"
   ]
  },
  {
   "cell_type": "markdown",
   "id": "2588f724-0a22-4804-b1e8-e609b64e5b75",
   "metadata": {},
   "source": [
    "#### 4. 데이터 저장"
   ]
  },
  {
   "cell_type": "code",
   "execution_count": 12,
   "id": "187f7451-a738-441d-ae2e-f8d4cc36a0df",
   "metadata": {},
   "outputs": [
    {
     "name": "stdout",
     "output_type": "stream",
     "text": [
      "(2606, 2)\n",
      "                                                   0  1\n",
      "0  \\n\\n                    \\n                    ...  5\n",
      "1  \\n\\n                    \\n                    ...  5\n",
      "2  \\n\\n                    \\n                    ...  5\n",
      "3  \\n\\n                    \\n                    ...  5\n",
      "4  \\n\\n                    \\n                    ...  5\n"
     ]
    }
   ],
   "source": [
    "reviews_list_merge = list(itertools.chain(*reviews_list)) # 각 상품 리뷰를 하나의 리스트로 합치기\n",
    "\n",
    "reviews_df = pd.DataFrame(reviews_list_merge) # 데이터 프레임으로 재구조화\n",
    "print(reviews_df.shape)\n",
    "print(reviews_df.head())"
   ]
  },
  {
   "cell_type": "code",
   "execution_count": 15,
   "id": "f702bdef-43a9-4244-b97b-3b1f192f18f9",
   "metadata": {},
   "outputs": [],
   "source": [
    "reviews_df.to_csv('CoupangProductReview.csv',index=False,encoding='utf-8-sig')"
   ]
  }
 ],
 "metadata": {
  "kernelspec": {
   "display_name": "Python 3 (ipykernel)",
   "language": "python",
   "name": "python3"
  },
  "language_info": {
   "codemirror_mode": {
    "name": "ipython",
    "version": 3
   },
   "file_extension": ".py",
   "mimetype": "text/x-python",
   "name": "python",
   "nbconvert_exporter": "python",
   "pygments_lexer": "ipython3",
   "version": "3.12.4"
  }
 },
 "nbformat": 4,
 "nbformat_minor": 5
}
