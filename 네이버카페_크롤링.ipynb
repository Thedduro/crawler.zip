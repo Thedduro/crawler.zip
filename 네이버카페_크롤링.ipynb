{
 "cells": [
  {
   "cell_type": "markdown",
   "metadata": {},
   "source": [
    "#### 1. 필요한 라이브러리 및 패키지 임포트"
   ]
  },
  {
   "cell_type": "code",
   "execution_count": 1,
   "metadata": {
    "id": "un16gn3t_kFV"
   },
   "outputs": [],
   "source": [
    "import pandas as pd\n",
    "import numpy as np\n",
    "\n",
    "# selenium의 webdriver를 사용하기 위한 import\n",
    "from selenium import webdriver\n",
    "\n",
    "# selenium으로 키를 조작하기 위한 import\n",
    "from selenium.webdriver.common.keys import Keys\n",
    "from selenium.webdriver.common.by import By\n",
    "\n",
    "# 페이지 로딩을 기다리는데에 사용할 time 모듈 import\n",
    "import time\n",
    "from bs4 import BeautifulSoup as bs"
   ]
  },
  {
   "cell_type": "markdown",
   "metadata": {},
   "source": [
    "#### 2. 크롤링"
   ]
  },
  {
   "cell_type": "code",
   "execution_count": 10,
   "metadata": {
    "id": "37Cbb-_bATmx"
   },
   "outputs": [],
   "source": [
    "# 크롬드라이버 실행\n",
    "driver = webdriver.Chrome()\n",
    "\n",
    "# 크롬 드라이버에 네이버 카페 메인 url 주소 넣고 실행\n",
    "driver.get('INPUT_NaverCafe')\n",
    "\n",
    "search_box = driver.find_element(By.ID, \"topLayerQueryInput\") # 카페 검색박스\n",
    "\n",
    "search_box.send_keys('INPUT_검색 키워드') # 검색어 입력\n",
    "search_box.send_keys(Keys.RETURN)\n",
    "time.sleep(random.randint(1,3)) # 요청시간 랜덤 조정으로 크롤링 차단 방지"
   ]
  },
  {
   "cell_type": "markdown",
   "metadata": {},
   "source": [
    "- 검색 옵션 설정"
   ]
  },
  {
   "cell_type": "code",
   "execution_count": 12,
   "metadata": {
    "id": "uQJzTo__Baap"
   },
   "outputs": [],
   "source": [
    "driver.switch_to.frame(driver.find_element(By.XPATH, \"//*[@id='cafe_main']\")) # select component frame으로 이동\n",
    "\n",
    "driver.find_element(By.XPATH, '//*[@id=\"listSizeSelectDiv\"]/a').click() # 한 페이지에 뜨는 게시물 수 선택 버튼 클릭\n",
    "driver.find_element(By.XPATH, '//*[@id=\"listSizeSelectDiv\"]/ul/li[7]/a').click() # 50개씩 노출하기 버튼 클릭"
   ]
  },
  {
   "cell_type": "markdown",
   "metadata": {},
   "source": [
    "- 게시글 제목, 본문, 작성시간, 댓글 추출"
   ]
  },
  {
   "cell_type": "code",
   "execution_count": null,
   "metadata": {},
   "outputs": [],
   "source": [
    "num_page = 100 # 총 페이지 수\n",
    "page = 1 # 시작 페이지 설정\n",
    "\n",
    "df = pd.DataFrame(columns=['time', 'board_type', 'title', 'content','comment'])\n",
    "\n",
    "while page <= num_page:\n",
    "    print(f'page {page}')\n",
    "    for i in range(1, 51): # 한 번에 보이는 게시글 수\n",
    "        print(f'i : {i}, 게시글 번호 : {len(df) + 1}')\n",
    "        idx = (page * 50) + i\n",
    "        try:\n",
    "            driver.switch_to.frame(driver.find_element(By.XPATH, \"//*[@id='cafe_main']\"))\n",
    "        except:\n",
    "            pass\n",
    "\n",
    "        try:\n",
    "            xpath = f'//*[@id=\"main-area\"]/div[5]/table/tbody/tr[{i}]/td[1]/div[2]/div/a' # 게시글로 이동\n",
    "            driver.find_element(By.XPATH, xpath).click()\n",
    "            time.sleep(1)  # 페이지 로딩 시간\n",
    "            driver.implicitly_wait(1)\n",
    "        except:\n",
    "            driver.back() # 이전 페이지로 돌아가기\n",
    "            time.sleep(1)\n",
    "            break\n",
    "\n",
    "        try:\n",
    "            board_type = driver.find_elements(By.XPATH, '//*[@id=\"app\"]/div/div/div[2]/div[1]/div[1]/div/a') # 게시판 가져오기\n",
    "            board_type = board_type[0].text\n",
    "\n",
    "            if ('벼룩' in board_type) or ('이벤트' in board_type): # 게시글의 게시판이 벼룩 또는 이벤트일때 제외\n",
    "                driver.back() # 이전 페이지로 돌아가기\n",
    "                time.sleep(1)\n",
    "                continue\n",
    "        except:\n",
    "            driver.back() # 이전 페이지로 돌아가기\n",
    "            time.sleep(1)\n",
    "            continue\n",
    "\n",
    "        date = driver.find_elements(By.XPATH, '//*[@id=\"app\"]/div/div/div[2]/div[1]/div[2]/div[2]/div[2]/span[1]') # 날짜 가져오기\n",
    "        date = date[0].text\n",
    "        print(date)\n",
    "        \n",
    "        title = driver.find_elements(By.XPATH, '//*[@id=\"app\"]/div/div/div[2]/div[1]/div[1]/div/div/h3') # 제목 가져오기\n",
    "        title = title[0].text\n",
    "\n",
    "        try:\n",
    "            content = driver.find_elements(By.XPATH, '//*[starts-with(@id, \"SE\")]') # 내용 가져오기\n",
    "            content = content[0].text\n",
    "            comment = driver.find_elements(By.XPATH, '//*[@id=\"app\"]/div/div/div[2]/div[2]/div[5]/div[2]/ul') # 댓글 가져오기\n",
    "            comment = comment[0].text\n",
    "\n",
    "        except Exception as e: # 예외처리\n",
    "            try:\n",
    "                content = driver.find_elements(By.XPATH, '//*[starts-with(@id, \"app\")]')\n",
    "                content = content[0].text\n",
    "            except Exception as e: # 예외처리\n",
    "                content = '내용없음'\n",
    "                print(f\"내용없음 오류 post {i} on page {page}: {e}\")\n",
    "\n",
    "        new_row = [date, board_type, title, content, comment]\n",
    "        df.loc[len(df)] = new_row\n",
    "\n",
    "        driver.back() # 이전 페이지로 돌아가기\n",
    "        time.sleep(1)\n",
    "\n",
    "    driver.switch_to.frame(driver.find_element(By.XPATH, \"//*[@id='cafe_main']\"))\n",
    "    print(page % 10) \n",
    "\n",
    "    if (page % 10) == 0: # 현재 페이지가 10,20.. 단위일 때\n",
    "        if (page // 10) > 1: # 현재 페이지가 20 이상\n",
    "            next_page_button = driver.find_element(By.XPATH, \"//*[@id='main-area']/div[7]/a[12]\")\n",
    "        else: # 현재 페이지가 10\n",
    "            next_page_button = driver.find_element(By.XPATH, \"//*[@id='main-area']/div[7]/a[11]\")\n",
    "    else: \n",
    "        if (page // 10) > 0: # 현재 페이지가 1~9\n",
    "            next_page_button = driver.find_element(By.XPATH, f'//*[@id=\"main-area\"]/div[7]/a[{(page % 10)+2}]')\n",
    "        else: # 현재 페이지가 11이상\n",
    "            next_page_button = driver.find_element(By.XPATH, f'//*[@id=\"main-area\"]/div[7]/a[{(page % 10)+1}]')\n",
    "    \n",
    "    next_page_button.click() # 다음 페이지 이동 버튼 클릭\n",
    "    page += 1\n",
    "    time.sleep(1)"
   ]
  },
  {
   "cell_type": "markdown",
   "metadata": {},
   "source": [
    "#### 3. 데이터 저장"
   ]
  },
  {
   "cell_type": "code",
   "execution_count": 20,
   "metadata": {
    "id": "xMNJwQrXyRJk"
   },
   "outputs": [],
   "source": [
    "df.to_csv('NaverBlog.csv', index=False, encoding='utf-8-sig')"
   ]
  }
 ],
 "metadata": {
  "colab": {
   "provenance": []
  },
  "kernelspec": {
   "display_name": "Python 3 (ipykernel)",
   "language": "python",
   "name": "python3"
  },
  "language_info": {
   "codemirror_mode": {
    "name": "ipython",
    "version": 3
   },
   "file_extension": ".py",
   "mimetype": "text/x-python",
   "name": "python",
   "nbconvert_exporter": "python",
   "pygments_lexer": "ipython3",
   "version": "3.12.4"
  }
 },
 "nbformat": 4,
 "nbformat_minor": 4
}
