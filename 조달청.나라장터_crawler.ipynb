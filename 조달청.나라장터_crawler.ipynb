{
  "cells": [
    {
      "cell_type": "markdown",
      "id": "3834ab9b",
      "metadata": {},
      "source": [
        "#### 1. 필요한 라이브러리 및 패키지 임포트"
      ]
    },
    {
      "cell_type": "code",
      "execution_count": null,
      "id": "7fe14c87-b500-4a30-a8cf-22105ba3e7f5",
      "metadata": {
        "id": "7fe14c87-b500-4a30-a8cf-22105ba3e7f5"
      },
      "outputs": [],
      "source": [
        "import pandas as pd\n",
        "import numpy as np\n",
        "\n",
        "# selenium의 webdriver를 사용하기 위한 import\n",
        "from selenium import webdriver\n",
        "\n",
        "# selenium으로 키를 조작하기 위한 import\n",
        "from selenium.webdriver.common.keys import Keys\n",
        "from selenium.webdriver.common.by import By\n",
        "\n",
        "# 페이지 로딩을 기다리는데에 사용할 time 모듈 import\n",
        "import time\n",
        "from bs4 import BeautifulSoup as bs\n",
        "import requests\n",
        "\n",
        "import re\n",
        "import urllib.request\n",
        "\n",
        "from selenium import webdriver\n",
        "from selenium.webdriver.common.by import By\n",
        "from selenium.common.exceptions import NoSuchElementException, ElementNotInteractableException\n",
        "from selenium .webdriver.chrome.service import Service\n",
        "import random"
      ]
    },
    {
      "cell_type": "markdown",
      "id": "b57cfc91-22fa-454f-85bf-32d13f27a45c",
      "metadata": {
        "id": "b57cfc91-22fa-454f-85bf-32d13f27a45c"
      },
      "source": [
        "#### 2. 나라장터 크롤링 함수"
      ]
    },
    {
      "cell_type": "markdown",
      "id": "6a779a62",
      "metadata": {},
      "source": [
        "##### 2.1 최대 페이지 탐색"
      ]
    },
    {
      "cell_type": "code",
      "execution_count": null,
      "id": "dac76cbc",
      "metadata": {},
      "outputs": [],
      "source": [
        "def get_max_page(driver):\n",
        "    try:\n",
        "        # 페이지 네비게이션의 페이지 번호 리스트를 찾음\n",
        "        page_elements = driver.find_elements(By.CSS_SELECTOR, \".pagination .page a\")\n",
        "\n",
        "        try:\n",
        "            # 마지막 페이지 번호 확인 (페이지 네비게이션 마지막 부분에 있는 'page_last' 클래스를 기준으로 최대 페이지 구함)\n",
        "            last_page_element = driver.find_element(By.CSS_SELECTOR, \".pagination .page_last\")\n",
        "            max_page = int(last_page_element.get_attribute(\"href\").split(\"'\")[1])\n",
        "           \n",
        "            return max_page\n",
        "        \n",
        "        except NoSuchElementException:\n",
        "            # 'page_last' 요소가 없는 경우 page_elements의 길이만큼 페이지를 반환\n",
        "            return len(page_elements)\n",
        "\n",
        "    except Exception as e:\n",
        "        print(f\"페이지 탐색 중 오류 발생: {e}\")\n",
        "        return 1"
      ]
    },
    {
      "cell_type": "markdown",
      "id": "7cdec318-aba0-4a7e-8536-26d58fc3b436",
      "metadata": {
        "id": "7cdec318-aba0-4a7e-8536-26d58fc3b436"
      },
      "source": [
        "##### 2.2 개찰공고 식별번호 추출"
      ]
    },
    {
      "cell_type": "code",
      "execution_count": null,
      "id": "acfecb25-8335-42de-ab15-18f8738e3413",
      "metadata": {
        "id": "acfecb25-8335-42de-ab15-18f8738e3413"
      },
      "outputs": [],
      "source": [
        "def nara_crawler(search_word, start_date, end_date):\n",
        "    search_query = search_word\n",
        "    euc_kr_encoded = search_query.encode('euc-kr') # 문자열을 EUC-KR로 인코딩\n",
        "    query = urllib.parse.quote(euc_kr_encoded) # URL 인코딩\n",
        "\n",
        "    # 인코딩 한 문자열을 다시 검색어로 디코딩\n",
        "      #decoded_bytes = urllib.parse.unquote_to_bytes(query)\n",
        "      #decoded_str = decoded_bytes.decode('euc-kr')\n",
        "\n",
        "    first_url = 'https://www.g2b.go.kr:8340/search.do?kwd=' + query + f'&category=GC&subCategory=ALL&detailSearch=true&reSrchFlag=false&pageNum=1&sort=ODD&srchFd=ALL&date=&startDate={start_date}&endDate={end_date}'\n",
        "    driver = webdriver.Chrome()\n",
        "    driver.get(first_url)\n",
        "    time.sleep(random.uniform(1, 2))\n",
        "\n",
        "    # 팝업창이 뜨면 닫는 동작 생성\n",
        "    main = driver.window_handles\n",
        "    for i in main:\n",
        "        if i != main[0]:\n",
        "            driver.switch_to.window(i)\n",
        "            driver.close() # 창 닫기\n",
        "\n",
        "    # 개찰결과 검색 결과가 0건인 경우 예외처리\n",
        "    result_element = driver.find_element(By.CSS_SELECTOR, 'h3.tit')\n",
        "    if result_element: # 검색 결과 개수 추출\n",
        "        result_text = result_element.text\n",
        "        match = re.search(r'\\((\\d+)건\\)', result_text)\n",
        "\n",
        "        if match:\n",
        "            result_count = int(match.group(1))\n",
        "            \n",
        "            if result_count == 0: # 개찰결과가 0건인 경우 \n",
        "                print(\"⚠️검색 결과가 없습니다.\")\n",
        "                driver.quit()  # 드라이버 종료\n",
        "                return None \n",
        "\n",
        "    # 검색 결과의 최대 페이지 수 탐색\n",
        "    max_page = get_max_page(driver)\n",
        "\n",
        "    bidno = [] # 식별번호 저장 리스트\n",
        "\n",
        "    for i in range(1, max_page+1):\n",
        "        url = 'https://www.g2b.go.kr:8340/search.do?kwd=' + query + f'&category=GC&subCategory=ALL&detailSearch=true&reSrchFlag=false&pageNum={i}&sort=ODD&srchFd=ALL&date=&startDate={start_date}&endDate={end_date}'\n",
        "\n",
        "        # 헤더 변경으로 크롤링 차단 우회\n",
        "        HEADERS = {\n",
        "            \"User-Agent\": \"Mozilla/5.0 (Windows NT 10.0; Win64; x64; rv:91.0) Gecko/20100101 Firefox/91.0\",\n",
        "            \"Accept\": \"text/html,application/xhtml+xml,application/xml;q=0.9,image/webp,image/apng,*/*;q=0.8\",\n",
        "            \"Accept-Language\": \"ko-KR,ko;q=0.9\",\n",
        "            \"Accept-Encoding\": \"gzip, deflate, br\",\n",
        "            \"Connection\": \"keep-alive\",\n",
        "            \"Upgrade-Insecure-Requests\": \"1\",\n",
        "            \"TE\": \"Trailers\",\n",
        "            \"DNT\": \"1\",\n",
        "        }\n",
        "\n",
        "        driver=webdriver.Chrome()\n",
        "        driver.get(url)\n",
        "        time.sleep(random.uniform(1, 2))\n",
        "\n",
        "        # 팝업창이 뜨면 닫는 동작 생성\n",
        "        main = driver.window_handles\n",
        "        for i in main:\n",
        "            if i != main[0]:\n",
        "                driver.switch_to.window(i)\n",
        "                driver.close() # 창 닫기\n",
        "\n",
        "        # 한 페이지의 결과 리스트\n",
        "        ul_elements = driver.find_elements(By.XPATH, '//*[@id=\"contents\"]/div[1]/ul')\n",
        "        pattern = re.compile(r'\\[([^\\]]+)\\]')\n",
        "\n",
        "        # 리스트에서 각각의 결과 요소 추출\n",
        "        for ul in ul_elements:\n",
        "            li_elements = ul.find_elements(By.TAG_NAME, 'li')\n",
        "\n",
        "            for li in li_elements:\n",
        "                text = li.text\n",
        "                matches = pattern.findall(text)\n",
        "\n",
        "                for match in matches:\n",
        "                    split_values = match.split('-')\n",
        "                    \n",
        "                    if len(split_values) == 2:\n",
        "                        value1, value2 = split_values\n",
        "                        bidno.append(value1.strip())\n",
        "                    else:\n",
        "                        pass\n",
        "    return bidno"
      ]
    },
    {
      "cell_type": "markdown",
      "id": "41e139a1-b8f3-442f-a04b-f2e488343e50",
      "metadata": {
        "id": "41e139a1-b8f3-442f-a04b-f2e488343e50"
      },
      "source": [
        "##### 2.3 개찰결과 크롤링"
      ]
    },
    {
      "cell_type": "code",
      "execution_count": null,
      "id": "44b45908-a4f4-469a-9593-1e6dcc8fe26e",
      "metadata": {
        "id": "44b45908-a4f4-469a-9593-1e6dcc8fe26e"
      },
      "outputs": [],
      "source": [
        "def result_crawler(bidno):\n",
        "\n",
        "    bid_list = []\n",
        "    result_list = []\n",
        "    pass_list = [] # 유찰된 데이터 개수 확인용\n",
        "\n",
        "    for index, bid in enumerate(bidno):\n",
        "        detail_url = f'https://www.g2b.go.kr:8101/ep/result/serviceBidResultDtl.do?bidno={bid}&bidseq=00&whereAreYouFrom=piser' # 개찰결과 상세조회 url\n",
        "        r = requests.get(detail_url)\n",
        "        soup = bs(r.text, \"html.parser\")\n",
        "\n",
        "        try:\n",
        "            # 개찰공고 정보 추출\n",
        "            bid_number = soup.find('th', string=\"입찰공고번호\").find_next('td').get_text(strip=True)\n",
        "            bid_name = soup.find('th', string=\"공고명\").find_next('td').get_text(strip=True)\n",
        "            bid_where = soup.find('th', string=\"수요기관\").find_next('td').get_text(strip=True)\n",
        "            bid_who = soup.find('th', string=\"집행관\").find_next('td').get_text(strip=True)\n",
        "            bid_when = soup.find('th', string=\"실제개찰일시\").find_next('td').get_text(strip=True)\n",
        "            bid_list.append([index,bid_number,bid_name,bid_where,bid_who,bid_when])\n",
        "\n",
        "            # 개찰결과 목록 추출\n",
        "            rows = soup.find_all('tr') # 결과 테이블 데이터\n",
        "            for row in rows:\n",
        "                row_data = [cell.get_text(strip=True) for cell in row.find_all('td')]\n",
        "\n",
        "                if len(row_data) >= 9: # 개찰 순위 데이터만 추가\n",
        "                    row_data.insert(0, index) # 리스트 맨 앞에 인덱스(개찰공고 인덱스) 추가\n",
        "                    result_list.append(row_data)\n",
        "\n",
        "        except Exception as e: # 투찰한 모든 업체가 낙찰하한선 미달일 경우 예외처리\n",
        "            pass_list.append(bid)\n",
        "    \n",
        "    return bid_list, result_list, pass_list"
      ]
    },
    {
      "cell_type": "markdown",
      "id": "f6f4b618",
      "metadata": {},
      "source": [
        "#### 3. 크롤링 함수 실행"
      ]
    },
    {
      "cell_type": "code",
      "execution_count": null,
      "id": "5c899568",
      "metadata": {},
      "outputs": [],
      "source": [
        "# 개찰공고 식별번호 추출\n",
        "bidno = nara_crawler('QUERY', start_date, end_date)\n",
        "\n",
        "# 개찰결과 크롤링\n",
        "bid_list, result_list, pass_list = result_crawler(bidno)"
      ]
    },
    {
      "cell_type": "markdown",
      "id": "172085ea-0b98-4d2f-9356-e5173f2db320",
      "metadata": {
        "id": "172085ea-0b98-4d2f-9356-e5173f2db320"
      },
      "source": [
        "#### 4. 데이터 저장"
      ]
    },
    {
      "cell_type": "code",
      "execution_count": null,
      "id": "3653bf0b-0af8-422d-9c3b-bafc0b2a8a05",
      "metadata": {
        "id": "3653bf0b-0af8-422d-9c3b-bafc0b2a8a05"
      },
      "outputs": [],
      "source": [
        "# 개찰공고 데이터 \n",
        "bid_df = pd.DataFrame(bid_list)\n",
        "bid_df.columns = ['Index', '입찰공고번호', '공고명', '수요기관', '집행관', '실제개찰일시']\n",
        "bid_df.to_excel('개찰공고_목록.csv',index=False)\n",
        "\n",
        "# 개찰결과 데이터\n",
        "result_df = pd.DataFrame(result_list)\n",
        "result_df.columns = ['Index', '순위', '사업자등록번호', '업체명', '대표자명', '입찰금액', '투찰률(%)','추첨번호','투찰일시','비고']\n",
        "result_df.to_excel('개찰결과_result.csv',index=False)"
      ]
    },
    {
      "cell_type": "markdown",
      "id": "ef44ca69",
      "metadata": {},
      "source": [
        "-----------------"
      ]
    },
    {
      "cell_type": "code",
      "execution_count": null,
      "id": "9db05f81",
      "metadata": {},
      "outputs": [],
      "source": [
        "# # 유찰된 개찰데이터 확인용\n",
        "# pass_list"
      ]
    }
  ],
  "metadata": {
    "colab": {
      "provenance": [],
      "toc_visible": true
    },
    "kernelspec": {
      "display_name": "Python 3 (ipykernel)",
      "language": "python",
      "name": "python3"
    },
    "language_info": {
      "codemirror_mode": {
        "name": "ipython",
        "version": 3
      },
      "file_extension": ".py",
      "mimetype": "text/x-python",
      "name": "python",
      "nbconvert_exporter": "python",
      "pygments_lexer": "ipython3",
      "version": "3.12.4"
    }
  },
  "nbformat": 4,
  "nbformat_minor": 5
}
